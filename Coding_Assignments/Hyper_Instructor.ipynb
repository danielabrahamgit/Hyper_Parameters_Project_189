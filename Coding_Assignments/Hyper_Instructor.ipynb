{
 "cells": [
  {
   "cell_type": "markdown",
   "metadata": {},
   "source": [
    "# Hyperparameter Optimization for MNIST Digit Classifcation"
   ]
  },
  {
   "cell_type": "markdown",
   "metadata": {},
   "source": [
    "Most machine learning models have some parameters that you can play around with. We saw this last week with ridge regression. We were able to choose the value of $\\lambda$ in order to get our model to behave differently. However one may ask the question, how do we know the best $\\lambda$ for our model? This often depends on many factors and is model dependent. We will be answering this question for a different set of hyper parameters for a different model.\n",
    "\n",
    "In this notebook, we will be using various different tools we have learned in past weeks and explore how to optimize their hyper parameters."
   ]
  },
  {
   "cell_type": "markdown",
   "metadata": {},
   "source": [
    "We will be importing a python module that includes the MNIST handwritten digit dataset for us. In addition we will use skleran's MLPClassifier as our MLP."
   ]
  },
  {
   "cell_type": "code",
   "execution_count": 1,
   "metadata": {},
   "outputs": [],
   "source": [
    "from sklearn.linear_model import LogisticRegression\n",
    "from sklearn.neural_network import MLPClassifier\n",
    "from sklearn.linear_model import Ridge\n",
    "from sklearn.decomposition import PCA\n",
    "from keras.datasets import mnist\n",
    "import matplotlib.pyplot as plt\n",
    "import numpy as np\n",
    "import random"
   ]
  },
  {
   "cell_type": "markdown",
   "metadata": {},
   "source": [
    "Now we load the data, which is already split into training and testing for us"
   ]
  },
  {
   "cell_type": "code",
   "execution_count": 2,
   "metadata": {},
   "outputs": [],
   "source": [
    "(train_X, train_y), (test_X, test_y) = mnist.load_data()"
   ]
  },
  {
   "cell_type": "markdown",
   "metadata": {},
   "source": [
    "It is always a good idea to attempt to visualize data before performing any sort of ML techniques on it. Let us choose a few random indices and display the handwritten digits using the plt.imshow function."
   ]
  },
  {
   "cell_type": "code",
   "execution_count": 3,
   "metadata": {},
   "outputs": [
    {
     "data": {
      "image/png": "[encoded data removed]",
      "text/plain": [
       "<Figure size 432x288 with 1 Axes>"
      ]
     },
     "metadata": {
      "needs_background": "light"
     },
     "output_type": "display_data"
    },
    {
     "data": {
      "image/png": "[encoded data removed]",
      "text/plain": [
       "<Figure size 432x288 with 1 Axes>"
      ]
     },
     "metadata": {
      "needs_background": "light"
     },
     "output_type": "display_data"
    },
    {
     "data": {
      "image/png": "[encoded data removed]",
      "text/plain": [
       "<Figure size 432x288 with 1 Axes>"
      ]
     },
     "metadata": {
      "needs_background": "light"
     },
     "output_type": "display_data"
    }
   ],
   "source": [
    "imgplot = plt.imshow(train_X[381], cmap = 'gray')\n",
    "plt.figure()\n",
    "imgplot = plt.imshow(train_X[32], cmap = 'gray')\n",
    "plt.figure()\n",
    "imgplot = plt.imshow(train_X[132], cmap = 'gray')"
   ]
  },
  {
   "cell_type": "markdown",
   "metadata": {},
   "source": [
    "To start off, let us take a scenario where we only wish to classify between a handwritten '0' and '1'. So, for this code, we wish to populate the variables $train\\_X\\_bin, train\\_y\\_bin, test\\_X\\_bin, test\\_y_bin$. We want them to be similar to the original testing/training data with the following exception:\n",
    "\n",
    "We want to omit all data points with labels that are not 0 or 1. We also wish to vectorize the images. The structure of the given data is N x 28 x 28, or N (28 x 28) pictures. Instead, we wish to represent each picture, which is just a 2D array of ints, as a flattened 1d array of ints. So, the dimensionality of our new data should be M x $28^2$ and M is definitely smaller than N. \n",
    "\n",
    "### **(TODO) Create a new set of training/testing data that only contains images with labels 0 or 1. Furthermore, flatten the images into 1D arrays of size 28*28**. Store the new test/train split for X and y in the variables defined below. (Hint: numpy's reshape library may come in handy for the image flattening)."
   ]
  },
  {
   "cell_type": "code",
   "execution_count": 4,
   "metadata": {},
   "outputs": [],
   "source": [
    "train_X_bin, train_y_bin = [], []\n",
    "test_X_bin, test_y_bin = [], []\n",
    "\n",
    "#TODO\n",
    "#Start\n",
    "for i in range(len(train_X)):\n",
    "    label = train_y[i]\n",
    "    if label == 0 or label == 1:\n",
    "        train_X_bin.append(train_X[i])\n",
    "        train_y_bin.append(2 * train_y[i] - 1)\n",
    "        \n",
    "for i in range(len(test_X)):\n",
    "    label = test_y[i]\n",
    "    if label == 0 or label == 1:\n",
    "        test_X_bin.append(test_X[i])\n",
    "        test_y_bin.append(2 * test_y[i] - 1)\n",
    "        \n",
    "train_X_bin = np.array(train_X_bin)\n",
    "train_y_bin = np.array(train_y_bin, dtype=int)\n",
    "test_X_bin  = np.array(test_X_bin)\n",
    "test_y_bin  = np.array(test_y_bin, dtype=int)\n",
    "train_X_bin = train_X_bin.reshape(train_X_bin.shape[0], train_X_bin.shape[1] * train_X_bin.shape[2])\n",
    "test_X_bin = test_X_bin.reshape(test_X_bin.shape[0], test_X_bin.shape[1] * test_X_bin.shape[2])\n",
    "#End"
   ]
  },
  {
   "cell_type": "markdown",
   "metadata": {},
   "source": [
    "# MNIST: Ridge Classifer"
   ]
  },
  {
   "cell_type": "markdown",
   "metadata": {},
   "source": [
    "Now we will try various different machine learning aproaches to classify the handwritten digits. For each of these ML techniques, we will introduce a hyper parameter and have you find the best hyper parameter. Let us start with ridge regression.\n",
    "\n",
    "We have used ridge regression before, but let's remind ourselves how it works. Say we have a data matrix $X \\in \\mathbb{R}^{n \\times d}$. In our case, $n$ is the number of training data for the '0' or '1' handwritten digits. Each image is $28 \\times 28$ pixels, which means that $d = 28^2 = 784$. Our labels will be stored in a vector $\\vec{y} \\in \\mathbb{R}^n$ where $y_i \\in \\{0, 1\\}$. In ridge regression, we solve the following optimization problem: \n",
    "\n",
    "$$\n",
    "\\min_{\\vec{w} \\in \\mathbb{R}^d} ||(X\\vec{w} - \\vec{y})||_2^2 + \\lambda ||\\vec{w}||_2^2, \\; \\; \\lambda > 0\n",
    "$$\n",
    "Where the solution to this optimization problem is $\\vec{w}^* = (X^TX + \\lambda I)^{-1}X^T\\vec{y}$. If we wish to classify a new datapoint $\\vec{x_{new}}$, then we use the folowing scheme: $label_{new} = f(\\vec{x_{new}}^T \\vec{w}^*)$ where $f(x) = 1$ if $x > 0$ and $f(x) = 0$ if $x \\le 0$. Now that we have covered how we will use ridge regression to classify new samples, let us impliment a few helper functions."
   ]
  },
  {
   "cell_type": "markdown",
   "metadata": {},
   "source": [
    "### **(TODO) Impliment the function loss_func code. This loss function will simply return the percentage of missclassified datapoints given a test data matrix X_test, the optimal weight w_opt, and the reference labels y_ref (HINT: Use the previous functions).**"
   ]
  },
  {
   "cell_type": "code",
   "execution_count": 5,
   "metadata": {},
   "outputs": [],
   "source": [
    "def loss_func(y_pred, y_ref):\n",
    "    #TODO\n",
    "    #Start\n",
    "    err_vec = (y_pred - y_ref) ** 2\n",
    "    return np.sum(err_vec) / len(err_vec)\n",
    "    #End"
   ]
  },
  {
   "cell_type": "markdown",
   "metadata": {},
   "source": [
    "### **(TODO) Impliment the classify function. Upon a scalar input, classify(x) will return the sign of x. On a vector input, classify(x) returns the sign of each element of the vector.**"
   ]
  },
  {
   "cell_type": "code",
   "execution_count": 6,
   "metadata": {},
   "outputs": [],
   "source": [
    "def classify(x):\n",
    "    #TODO\n",
    "    #Start\n",
    "    return 2*(x >= 0).astype(int) - 1\n",
    "    #End"
   ]
  },
  {
   "cell_type": "markdown",
   "metadata": {},
   "source": [
    "### **(TODO) Impliment the classify_ridge function. This function will take in the train/test data along with the ridge hyper parameter. It should return the classification test error. You can use Sklearn's ridge model.**"
   ]
  },
  {
   "cell_type": "code",
   "execution_count": 7,
   "metadata": {},
   "outputs": [],
   "source": [
    "def classify_ridge(X_train, y_train, X_test, y_test, lambd):\n",
    "    #TODO\n",
    "    #Start\n",
    "    ridge = Ridge(alpha=lambd, solver='cholesky')\n",
    "    ridge.fit(X_train, y_train)\n",
    "    y_pred = classify(ridge.predict(X_test))\n",
    "    return loss_func(y_pred, y_test)\n",
    "    #End"
   ]
  },
  {
   "cell_type": "markdown",
   "metadata": {},
   "source": [
    "So we have a ridge classification function. Now, impliment a hyper-parameter grid search over the powers of 10 to find the most optimal value of lambda. We will provide the range of exponents. If the exponent is 4, then $\\lambda = 10^4$.\n",
    "\n",
    "\n",
    "### **(TODO) Given the EMPTY lists of lambdas and errors, iterate through all the lambdas (powers of exponents given) and populate the lambdas and errors lists. We will use these later for plotting.**"
   ]
  },
  {
   "cell_type": "code",
   "execution_count": 8,
   "metadata": {},
   "outputs": [],
   "source": [
    "#TODO\n",
    "lambdas = []\n",
    "errors  = []\n",
    "lambda_vals = np.logspace(-1, 12, 1)\n",
    "#Start\n",
    "for lambd in lambda_vals:\n",
    "    loss = classify_ridge(X_train=train_X_bin, y_train=train_y_bin, X_test=test_X_bin, y_test=test_y_bin, lambd=lambd)\n",
    "    lambdas.append(lambd)\n",
    "    errors.append(loss)\n",
    "#End"
   ]
  },
  {
   "cell_type": "markdown",
   "metadata": {},
   "source": [
    "Now we will plot the different values of lambda with their respective errors.\n",
    "\n",
    "### **(TODO) Plot the values of lambda against the log of the errors**"
   ]
  },
  {
   "cell_type": "code",
   "execution_count": 9,
   "metadata": {},
   "outputs": [
    {
     "data": {
      "text/plain": [
       "Text(0.5, 1.0, 'Log Lambda vs Log Error')"
      ]
     },
     "execution_count": 9,
     "metadata": {},
     "output_type": "execute_result"
    },
    {
     "data": {
      "image/png": "[encoded data removed]",
      "text/plain": [
       "<Figure size 432x288 with 1 Axes>"
      ]
     },
     "metadata": {
      "needs_background": "light"
     },
     "output_type": "display_data"
    }
   ],
   "source": [
    "#TODO\n",
    "#Start\n",
    "plt.loglog(lambda_vals, errors)\n",
    "plt.xlabel('$log_{10}(\\lambda)$')\n",
    "plt.ylabel('$log_{10}(error)$')\n",
    "plt.title('Log Lambda vs Log Error')\n",
    "#End"
   ]
  },
  {
   "cell_type": "markdown",
   "metadata": {},
   "source": [
    "### **(TODO) Given the plot above, what is the most optimal value of lambda? What is the associated error? Remember that this error is the percentage of miss-classified test points. Would you consider ridge regression to be a good binary classifer?**\n",
    "\n",
    "COMMENT HERE\n",
    "\n",
    "Based on the minimizer that we have coded, $\\lambda^* \\approx 10^8$ and $error \\approx 10^{-2.25} \\approx 0.56\\%$. Using this value of lambda, ridge regression for MNIST binary classification works great!"
   ]
  },
  {
   "cell_type": "markdown",
   "metadata": {},
   "source": [
    "# MNIST: Logistic Regression With a Twist"
   ]
  },
  {
   "cell_type": "markdown",
   "metadata": {},
   "source": [
    "Now we will perform the same sort of classification, except we will use logistic regression. With a twist. Before we get to the twist, let us perform the standard logistic regression. You may use sklearn's logistic regression functionality. Remember, we are classifying on the following variables:\n",
    "\n",
    "$$train\\_X\\_bin, train\\_y\\_bin, test\\_X\\_bin, test\\_y\\_bin$$\n",
    "\n",
    "\n",
    "### **(TODO) Perform logistic regression on the MNIST data. Sklearn's LogisticRegression model may be useful here. Make sure to use  LogisticRegression(penalty = 'none', solver='saga')**"
   ]
  },
  {
   "cell_type": "code",
   "execution_count": 10,
   "metadata": {},
   "outputs": [
    {
     "name": "stderr",
     "output_type": "stream",
     "text": [
      "c:\\users\\danie\\appdata\\local\\programs\\python\\python37\\lib\\site-packages\\sklearn\\linear_model\\sag.py:337: ConvergenceWarning: The max_iter was reached which means the coef_ did not converge\n",
      "  \"the coef_ did not converge\", ConvergenceWarning)\n"
     ]
    },
    {
     "data": {
      "text/plain": [
       "LogisticRegression(C=1.0, class_weight=None, dual=False, fit_intercept=True,\n",
       "                   intercept_scaling=1, l1_ratio=None, max_iter=100,\n",
       "                   multi_class='warn', n_jobs=None, penalty='none',\n",
       "                   random_state=None, solver='saga', tol=0.0001, verbose=0,\n",
       "                   warm_start=False)"
      ]
     },
     "execution_count": 10,
     "metadata": {},
     "output_type": "execute_result"
    }
   ],
   "source": [
    "#TODO\n",
    "#Start\n",
    "logreg = LogisticRegression(penalty='none', solver='saga')\n",
    "logreg.fit(train_X_bin, train_y_bin)\n",
    "#End"
   ]
  },
  {
   "cell_type": "markdown",
   "metadata": {},
   "source": [
    "### **(TODO) Report the training and testing error. You can re-use the loss_func function from before .** "
   ]
  },
  {
   "cell_type": "code",
   "execution_count": 11,
   "metadata": {},
   "outputs": [
    {
     "name": "stdout",
     "output_type": "stream",
     "text": [
      "Training Error: 0.0\n",
      "Testing  Error: 0.0018912529550827422\n"
     ]
    }
   ],
   "source": [
    "#TODO\n",
    "#Start\n",
    "train_y_pred = logreg.predict(train_X_bin)\n",
    "test_y_pred  = logreg.predict(test_X_bin)\n",
    "\n",
    "train_error = loss_func(train_y_pred, train_y_bin)\n",
    "test_error = loss_func(test_y_pred, test_y_bin)\n",
    "#End\n",
    "\n",
    "print('Training Error:', train_error)\n",
    "print('Testing  Error:', test_error)"
   ]
  },
  {
   "cell_type": "markdown",
   "metadata": {},
   "source": [
    "### **(TODO) Comment on how well logistic regression performs on binary MNIST digit classification**"
   ]
  },
  {
   "cell_type": "markdown",
   "metadata": {},
   "source": [
    "COMMENT\n",
    "\n",
    "Logistic regression works very well on the handwritten digits. The training is near perfect and the testing only has a mislcassifcation rate of 0.2%"
   ]
  },
  {
   "cell_type": "markdown",
   "metadata": {},
   "source": [
    "Seeing how logistic regression performs so well, we will not try our best to make it perform worse. The way we will do this is to add noise to the training data. We will then see how well it performs at different noise levels.\n",
    "\n",
    "Some background first: We can model noise by simply adding small random numbers to each entry of our matrices. There is much theory behind how to model this noise using random variables, but we will not dive into this. We will provide you with the code that adds noise to the data. The one thing you must understand is that we will be using a parameter, named sigma, that will control the level of noise added. \n",
    "\n",
    "To get a feel for this, let us first plot a simple sine wave without any added noise"
   ]
  },
  {
   "cell_type": "code",
   "execution_count": 12,
   "metadata": {},
   "outputs": [
    {
     "data": {
      "text/plain": [
       "Text(0.5, 1.0, 'Simple Sine Wave')"
      ]
     },
     "execution_count": 12,
     "metadata": {},
     "output_type": "execute_result"
    },
    {
     "data": {
      "image/png": "[encoded data removed]",
      "text/plain": [
       "<Figure size 432x288 with 1 Axes>"
      ]
     },
     "metadata": {
      "needs_background": "light"
     },
     "output_type": "display_data"
    }
   ],
   "source": [
    "t = np.arange(500)\n",
    "plt.plot(t, np.sin(10 * 2 * np.pi * t / len(t)))\n",
    "plt.title('Simple Sine Wave')"
   ]
  },
  {
   "cell_type": "markdown",
   "metadata": {},
   "source": [
    "Now that we have plotted a sine wave, we will add noise to it with this parameter we have mentioned before, sigma. We want you to play around with sigma. Try differnt values of sigma and run the cell below. This will give you a feel for how this parameter changes added noise. Do note that $\\sigma \\ge 0$. You should specifically try values between 0 and 1\n",
    "\n",
    "### **(TODO) Play around with sigma to get a feel for how noise effects the data.** "
   ]
  },
  {
   "cell_type": "code",
   "execution_count": 13,
   "metadata": {},
   "outputs": [
    {
     "data": {
      "text/plain": [
       "Text(0.5, 1.0, 'Noisy Sine Wave $\\\\sigma=$0.2')"
      ]
     },
     "execution_count": 13,
     "metadata": {},
     "output_type": "execute_result"
    },
    {
     "data": {
      "image/png": "[encoded data removed]",
      "text/plain": [
       "<Figure size 432x288 with 1 Axes>"
      ]
     },
     "metadata": {
      "needs_background": "light"
     },
     "output_type": "display_data"
    }
   ],
   "source": [
    "#Try different sigma values 0 - 1\n",
    "#Start\n",
    "sigma = 0.2\n",
    "#End\n",
    "\n",
    "noisy_sine = np.sin(10 * 2 * np.pi * t / len(t)) + np.random.normal(0, sigma, len(t))\n",
    "plt.plot(t, noisy_sine)\n",
    "plt.title('Noisy Sine Wave $\\sigma=$' + str(sigma))"
   ]
  },
  {
   "cell_type": "markdown",
   "metadata": {},
   "source": [
    "Now, we will do the same thing for our datasets. First, we will create a function that will automatically return a new set of data with noise X samples:"
   ]
  },
  {
   "cell_type": "code",
   "execution_count": 14,
   "metadata": {},
   "outputs": [],
   "source": [
    "def noisy_data(X_train, X_test, sigma):\n",
    "    X_train_noisy = X_train + np.random.normal(0, sigma, X_train.shape)\n",
    "    X_test_noisy  = X_test  + np.random.normal(0, sigma, X_test.shape)\n",
    "    return X_train_noisy, X_test_noisy"
   ]
  },
  {
   "cell_type": "markdown",
   "metadata": {},
   "source": [
    "We also need a function to convert the 1D flattened images back to 2D. This you will impliment:\n",
    "\n",
    "### **(TODO) Impliment the function vec_to_img which takes in a 1d array and the image resolution. It will return a 2d array that represents the image.** "
   ]
  },
  {
   "cell_type": "code",
   "execution_count": 15,
   "metadata": {},
   "outputs": [],
   "source": [
    "def vec_to_img(vec, res):\n",
    "    #TODO\n",
    "    #Start\n",
    "    return vec.reshape(res)\n",
    "    #End"
   ]
  },
  {
   "cell_type": "markdown",
   "metadata": {},
   "source": [
    "Now let us define our new noisy dataset. We will be plotting a few handwritten digits. We encourage you to again play with sigma and see how the images turnout:"
   ]
  },
  {
   "cell_type": "code",
   "execution_count": 16,
   "metadata": {},
   "outputs": [
    {
     "data": {
      "image/png": "[encoded data removed]",
      "text/plain": [
       "<Figure size 432x288 with 1 Axes>"
      ]
     },
     "metadata": {
      "needs_background": "light"
     },
     "output_type": "display_data"
    },
    {
     "data": {
      "image/png": "[encoded data removed]",
      "text/plain": [
       "<Figure size 432x288 with 1 Axes>"
      ]
     },
     "metadata": {
      "needs_background": "light"
     },
     "output_type": "display_data"
    },
    {
     "data": {
      "image/png": "[encoded data removed]",
      "text/plain": [
       "<Figure size 432x288 with 1 Axes>"
      ]
     },
     "metadata": {
      "needs_background": "light"
     },
     "output_type": "display_data"
    },
    {
     "data": {
      "image/png": "[encoded data removed]",
      "text/plain": [
       "<Figure size 432x288 with 1 Axes>"
      ]
     },
     "metadata": {
      "needs_background": "light"
     },
     "output_type": "display_data"
    },
    {
     "data": {
      "image/png": "[encoded data removed]",
      "text/plain": [
       "<Figure size 432x288 with 1 Axes>"
      ]
     },
     "metadata": {
      "needs_background": "light"
     },
     "output_type": "display_data"
    },
    {
     "data": {
      "text/plain": [
       "<Figure size 432x288 with 0 Axes>"
      ]
     },
     "metadata": {},
     "output_type": "display_data"
    }
   ],
   "source": [
    "#Try different sigma values in the range 0-400\n",
    "#Start\n",
    "sigma = 400\n",
    "#End\n",
    "X_train_noisy, X_test_noisy = noisy_data(train_X_bin, test_X_bin, sigma)\n",
    "\n",
    "random_indices = random.sample(range(0, X_train_noisy.shape[0] - 1), 5)\n",
    "for i in random_indices:\n",
    "    imgplot = plt.imshow(vec_to_img(X_train_noisy[i], (28, 28)), cmap = 'gray')\n",
    "    plt.title('Label = ' + str((train_y_bin[i] + 1) // 2))\n",
    "    plt.figure()"
   ]
  },
  {
   "cell_type": "markdown",
   "metadata": {},
   "source": [
    "Now we will see how logistic regression performs at different values of sigma. We will provide you a range of sigma values: $\\sigma \\in [0, 100]$. We would like you to populate the list $err\\_lst$. For each value of sigma, find the error and update the list:\n",
    "\n",
    "### **(TODO) Go through all the values of sigma in sigmas. Populate the list err_lst with the error on the test data for a specific value of sigma. Use loss_func to compute the error.** "
   ]
  },
  {
   "cell_type": "code",
   "execution_count": 17,
   "metadata": {},
   "outputs": [
    {
     "name": "stderr",
     "output_type": "stream",
     "text": [
      "c:\\users\\danie\\appdata\\local\\programs\\python\\python37\\lib\\site-packages\\sklearn\\linear_model\\sag.py:337: ConvergenceWarning: The max_iter was reached which means the coef_ did not converge\n",
      "  \"the coef_ did not converge\", ConvergenceWarning)\n",
      "c:\\users\\danie\\appdata\\local\\programs\\python\\python37\\lib\\site-packages\\sklearn\\linear_model\\sag.py:337: ConvergenceWarning: The max_iter was reached which means the coef_ did not converge\n",
      "  \"the coef_ did not converge\", ConvergenceWarning)\n",
      "c:\\users\\danie\\appdata\\local\\programs\\python\\python37\\lib\\site-packages\\sklearn\\linear_model\\sag.py:337: ConvergenceWarning: The max_iter was reached which means the coef_ did not converge\n",
      "  \"the coef_ did not converge\", ConvergenceWarning)\n",
      "c:\\users\\danie\\appdata\\local\\programs\\python\\python37\\lib\\site-packages\\sklearn\\linear_model\\sag.py:337: ConvergenceWarning: The max_iter was reached which means the coef_ did not converge\n",
      "  \"the coef_ did not converge\", ConvergenceWarning)\n",
      "c:\\users\\danie\\appdata\\local\\programs\\python\\python37\\lib\\site-packages\\sklearn\\linear_model\\sag.py:337: ConvergenceWarning: The max_iter was reached which means the coef_ did not converge\n",
      "  \"the coef_ did not converge\", ConvergenceWarning)\n",
      "c:\\users\\danie\\appdata\\local\\programs\\python\\python37\\lib\\site-packages\\sklearn\\linear_model\\sag.py:337: ConvergenceWarning: The max_iter was reached which means the coef_ did not converge\n",
      "  \"the coef_ did not converge\", ConvergenceWarning)\n",
      "c:\\users\\danie\\appdata\\local\\programs\\python\\python37\\lib\\site-packages\\sklearn\\linear_model\\sag.py:337: ConvergenceWarning: The max_iter was reached which means the coef_ did not converge\n",
      "  \"the coef_ did not converge\", ConvergenceWarning)\n",
      "c:\\users\\danie\\appdata\\local\\programs\\python\\python37\\lib\\site-packages\\sklearn\\linear_model\\sag.py:337: ConvergenceWarning: The max_iter was reached which means the coef_ did not converge\n",
      "  \"the coef_ did not converge\", ConvergenceWarning)\n",
      "c:\\users\\danie\\appdata\\local\\programs\\python\\python37\\lib\\site-packages\\sklearn\\linear_model\\sag.py:337: ConvergenceWarning: The max_iter was reached which means the coef_ did not converge\n",
      "  \"the coef_ did not converge\", ConvergenceWarning)\n",
      "c:\\users\\danie\\appdata\\local\\programs\\python\\python37\\lib\\site-packages\\sklearn\\linear_model\\sag.py:337: ConvergenceWarning: The max_iter was reached which means the coef_ did not converge\n",
      "  \"the coef_ did not converge\", ConvergenceWarning)\n",
      "c:\\users\\danie\\appdata\\local\\programs\\python\\python37\\lib\\site-packages\\sklearn\\linear_model\\sag.py:337: ConvergenceWarning: The max_iter was reached which means the coef_ did not converge\n",
      "  \"the coef_ did not converge\", ConvergenceWarning)\n",
      "c:\\users\\danie\\appdata\\local\\programs\\python\\python37\\lib\\site-packages\\sklearn\\linear_model\\sag.py:337: ConvergenceWarning: The max_iter was reached which means the coef_ did not converge\n",
      "  \"the coef_ did not converge\", ConvergenceWarning)\n",
      "c:\\users\\danie\\appdata\\local\\programs\\python\\python37\\lib\\site-packages\\sklearn\\linear_model\\sag.py:337: ConvergenceWarning: The max_iter was reached which means the coef_ did not converge\n",
      "  \"the coef_ did not converge\", ConvergenceWarning)\n",
      "c:\\users\\danie\\appdata\\local\\programs\\python\\python37\\lib\\site-packages\\sklearn\\linear_model\\sag.py:337: ConvergenceWarning: The max_iter was reached which means the coef_ did not converge\n",
      "  \"the coef_ did not converge\", ConvergenceWarning)\n",
      "c:\\users\\danie\\appdata\\local\\programs\\python\\python37\\lib\\site-packages\\sklearn\\linear_model\\sag.py:337: ConvergenceWarning: The max_iter was reached which means the coef_ did not converge\n",
      "  \"the coef_ did not converge\", ConvergenceWarning)\n",
      "c:\\users\\danie\\appdata\\local\\programs\\python\\python37\\lib\\site-packages\\sklearn\\linear_model\\sag.py:337: ConvergenceWarning: The max_iter was reached which means the coef_ did not converge\n",
      "  \"the coef_ did not converge\", ConvergenceWarning)\n",
      "c:\\users\\danie\\appdata\\local\\programs\\python\\python37\\lib\\site-packages\\sklearn\\linear_model\\sag.py:337: ConvergenceWarning: The max_iter was reached which means the coef_ did not converge\n",
      "  \"the coef_ did not converge\", ConvergenceWarning)\n",
      "c:\\users\\danie\\appdata\\local\\programs\\python\\python37\\lib\\site-packages\\sklearn\\linear_model\\sag.py:337: ConvergenceWarning: The max_iter was reached which means the coef_ did not converge\n",
      "  \"the coef_ did not converge\", ConvergenceWarning)\n",
      "c:\\users\\danie\\appdata\\local\\programs\\python\\python37\\lib\\site-packages\\sklearn\\linear_model\\sag.py:337: ConvergenceWarning: The max_iter was reached which means the coef_ did not converge\n",
      "  \"the coef_ did not converge\", ConvergenceWarning)\n",
      "c:\\users\\danie\\appdata\\local\\programs\\python\\python37\\lib\\site-packages\\sklearn\\linear_model\\sag.py:337: ConvergenceWarning: The max_iter was reached which means the coef_ did not converge\n",
      "  \"the coef_ did not converge\", ConvergenceWarning)\n",
      "c:\\users\\danie\\appdata\\local\\programs\\python\\python37\\lib\\site-packages\\sklearn\\linear_model\\sag.py:337: ConvergenceWarning: The max_iter was reached which means the coef_ did not converge\n",
      "  \"the coef_ did not converge\", ConvergenceWarning)\n",
      "c:\\users\\danie\\appdata\\local\\programs\\python\\python37\\lib\\site-packages\\sklearn\\linear_model\\sag.py:337: ConvergenceWarning: The max_iter was reached which means the coef_ did not converge\n",
      "  \"the coef_ did not converge\", ConvergenceWarning)\n",
      "c:\\users\\danie\\appdata\\local\\programs\\python\\python37\\lib\\site-packages\\sklearn\\linear_model\\sag.py:337: ConvergenceWarning: The max_iter was reached which means the coef_ did not converge\n",
      "  \"the coef_ did not converge\", ConvergenceWarning)\n",
      "c:\\users\\danie\\appdata\\local\\programs\\python\\python37\\lib\\site-packages\\sklearn\\linear_model\\sag.py:337: ConvergenceWarning: The max_iter was reached which means the coef_ did not converge\n",
      "  \"the coef_ did not converge\", ConvergenceWarning)\n",
      "c:\\users\\danie\\appdata\\local\\programs\\python\\python37\\lib\\site-packages\\sklearn\\linear_model\\sag.py:337: ConvergenceWarning: The max_iter was reached which means the coef_ did not converge\n",
      "  \"the coef_ did not converge\", ConvergenceWarning)\n",
      "c:\\users\\danie\\appdata\\local\\programs\\python\\python37\\lib\\site-packages\\sklearn\\linear_model\\sag.py:337: ConvergenceWarning: The max_iter was reached which means the coef_ did not converge\n",
      "  \"the coef_ did not converge\", ConvergenceWarning)\n",
      "c:\\users\\danie\\appdata\\local\\programs\\python\\python37\\lib\\site-packages\\sklearn\\linear_model\\sag.py:337: ConvergenceWarning: The max_iter was reached which means the coef_ did not converge\n",
      "  \"the coef_ did not converge\", ConvergenceWarning)\n",
      "c:\\users\\danie\\appdata\\local\\programs\\python\\python37\\lib\\site-packages\\sklearn\\linear_model\\sag.py:337: ConvergenceWarning: The max_iter was reached which means the coef_ did not converge\n",
      "  \"the coef_ did not converge\", ConvergenceWarning)\n",
      "c:\\users\\danie\\appdata\\local\\programs\\python\\python37\\lib\\site-packages\\sklearn\\linear_model\\sag.py:337: ConvergenceWarning: The max_iter was reached which means the coef_ did not converge\n",
      "  \"the coef_ did not converge\", ConvergenceWarning)\n",
      "c:\\users\\danie\\appdata\\local\\programs\\python\\python37\\lib\\site-packages\\sklearn\\linear_model\\sag.py:337: ConvergenceWarning: The max_iter was reached which means the coef_ did not converge\n",
      "  \"the coef_ did not converge\", ConvergenceWarning)\n",
      "c:\\users\\danie\\appdata\\local\\programs\\python\\python37\\lib\\site-packages\\sklearn\\linear_model\\sag.py:337: ConvergenceWarning: The max_iter was reached which means the coef_ did not converge\n",
      "  \"the coef_ did not converge\", ConvergenceWarning)\n",
      "c:\\users\\danie\\appdata\\local\\programs\\python\\python37\\lib\\site-packages\\sklearn\\linear_model\\sag.py:337: ConvergenceWarning: The max_iter was reached which means the coef_ did not converge\n",
      "  \"the coef_ did not converge\", ConvergenceWarning)\n",
      "c:\\users\\danie\\appdata\\local\\programs\\python\\python37\\lib\\site-packages\\sklearn\\linear_model\\sag.py:337: ConvergenceWarning: The max_iter was reached which means the coef_ did not converge\n",
      "  \"the coef_ did not converge\", ConvergenceWarning)\n",
      "c:\\users\\danie\\appdata\\local\\programs\\python\\python37\\lib\\site-packages\\sklearn\\linear_model\\sag.py:337: ConvergenceWarning: The max_iter was reached which means the coef_ did not converge\n",
      "  \"the coef_ did not converge\", ConvergenceWarning)\n"
     ]
    },
    {
     "name": "stderr",
     "output_type": "stream",
     "text": [
      "c:\\users\\danie\\appdata\\local\\programs\\python\\python37\\lib\\site-packages\\sklearn\\linear_model\\sag.py:337: ConvergenceWarning: The max_iter was reached which means the coef_ did not converge\n",
      "  \"the coef_ did not converge\", ConvergenceWarning)\n",
      "c:\\users\\danie\\appdata\\local\\programs\\python\\python37\\lib\\site-packages\\sklearn\\linear_model\\sag.py:337: ConvergenceWarning: The max_iter was reached which means the coef_ did not converge\n",
      "  \"the coef_ did not converge\", ConvergenceWarning)\n",
      "c:\\users\\danie\\appdata\\local\\programs\\python\\python37\\lib\\site-packages\\sklearn\\linear_model\\sag.py:337: ConvergenceWarning: The max_iter was reached which means the coef_ did not converge\n",
      "  \"the coef_ did not converge\", ConvergenceWarning)\n",
      "c:\\users\\danie\\appdata\\local\\programs\\python\\python37\\lib\\site-packages\\sklearn\\linear_model\\sag.py:337: ConvergenceWarning: The max_iter was reached which means the coef_ did not converge\n",
      "  \"the coef_ did not converge\", ConvergenceWarning)\n",
      "c:\\users\\danie\\appdata\\local\\programs\\python\\python37\\lib\\site-packages\\sklearn\\linear_model\\sag.py:337: ConvergenceWarning: The max_iter was reached which means the coef_ did not converge\n",
      "  \"the coef_ did not converge\", ConvergenceWarning)\n",
      "c:\\users\\danie\\appdata\\local\\programs\\python\\python37\\lib\\site-packages\\sklearn\\linear_model\\sag.py:337: ConvergenceWarning: The max_iter was reached which means the coef_ did not converge\n",
      "  \"the coef_ did not converge\", ConvergenceWarning)\n",
      "c:\\users\\danie\\appdata\\local\\programs\\python\\python37\\lib\\site-packages\\sklearn\\linear_model\\sag.py:337: ConvergenceWarning: The max_iter was reached which means the coef_ did not converge\n",
      "  \"the coef_ did not converge\", ConvergenceWarning)\n",
      "c:\\users\\danie\\appdata\\local\\programs\\python\\python37\\lib\\site-packages\\sklearn\\linear_model\\sag.py:337: ConvergenceWarning: The max_iter was reached which means the coef_ did not converge\n",
      "  \"the coef_ did not converge\", ConvergenceWarning)\n",
      "c:\\users\\danie\\appdata\\local\\programs\\python\\python37\\lib\\site-packages\\sklearn\\linear_model\\sag.py:337: ConvergenceWarning: The max_iter was reached which means the coef_ did not converge\n",
      "  \"the coef_ did not converge\", ConvergenceWarning)\n",
      "c:\\users\\danie\\appdata\\local\\programs\\python\\python37\\lib\\site-packages\\sklearn\\linear_model\\sag.py:337: ConvergenceWarning: The max_iter was reached which means the coef_ did not converge\n",
      "  \"the coef_ did not converge\", ConvergenceWarning)\n",
      "c:\\users\\danie\\appdata\\local\\programs\\python\\python37\\lib\\site-packages\\sklearn\\linear_model\\sag.py:337: ConvergenceWarning: The max_iter was reached which means the coef_ did not converge\n",
      "  \"the coef_ did not converge\", ConvergenceWarning)\n",
      "c:\\users\\danie\\appdata\\local\\programs\\python\\python37\\lib\\site-packages\\sklearn\\linear_model\\sag.py:337: ConvergenceWarning: The max_iter was reached which means the coef_ did not converge\n",
      "  \"the coef_ did not converge\", ConvergenceWarning)\n",
      "c:\\users\\danie\\appdata\\local\\programs\\python\\python37\\lib\\site-packages\\sklearn\\linear_model\\sag.py:337: ConvergenceWarning: The max_iter was reached which means the coef_ did not converge\n",
      "  \"the coef_ did not converge\", ConvergenceWarning)\n",
      "c:\\users\\danie\\appdata\\local\\programs\\python\\python37\\lib\\site-packages\\sklearn\\linear_model\\sag.py:337: ConvergenceWarning: The max_iter was reached which means the coef_ did not converge\n",
      "  \"the coef_ did not converge\", ConvergenceWarning)\n",
      "c:\\users\\danie\\appdata\\local\\programs\\python\\python37\\lib\\site-packages\\sklearn\\linear_model\\sag.py:337: ConvergenceWarning: The max_iter was reached which means the coef_ did not converge\n",
      "  \"the coef_ did not converge\", ConvergenceWarning)\n",
      "c:\\users\\danie\\appdata\\local\\programs\\python\\python37\\lib\\site-packages\\sklearn\\linear_model\\sag.py:337: ConvergenceWarning: The max_iter was reached which means the coef_ did not converge\n",
      "  \"the coef_ did not converge\", ConvergenceWarning)\n"
     ]
    }
   ],
   "source": [
    "sigmas = np.arange(350,400)\n",
    "err_lst = []\n",
    "#TODO\n",
    "#Start\n",
    "logreg = LogisticRegression(penalty='none', solver='saga')\n",
    "for sigma in sigmas:\n",
    "    #Generate the noisy data\n",
    "    X_train_noisy, X_test_noisy = noisy_data(train_X_bin, test_X_bin, sigma)\n",
    "    #Fit the logistic regressor\n",
    "    logreg.fit(X_train_noisy, train_y_bin)\n",
    "    #predict\n",
    "    y_pred = logreg.predict(X_test_noisy)\n",
    "    #find and store the error\n",
    "    err_lst.append(loss_func(y_pred, test_y_bin))\n",
    "#End"
   ]
  },
  {
   "cell_type": "markdown",
   "metadata": {},
   "source": [
    "### **(TODO) Now plot the error as a funtion of sigma below.**"
   ]
  },
  {
   "cell_type": "code",
   "execution_count": 18,
   "metadata": {},
   "outputs": [
    {
     "data": {
      "text/plain": [
       "[<matplotlib.lines.Line2D at 0x25959f2f588>]"
      ]
     },
     "execution_count": 18,
     "metadata": {},
     "output_type": "execute_result"
    },
    {
     "data": {
      "image/png": "[encoded data removed]",
      "text/plain": [
       "<Figure size 432x288 with 1 Axes>"
      ]
     },
     "metadata": {
      "needs_background": "light"
     },
     "output_type": "display_data"
    }
   ],
   "source": [
    "#TODO\n",
    "#Start\n",
    "plt.plot(sigmas, err_lst)\n",
    "#End"
   ]
  },
  {
   "cell_type": "markdown",
   "metadata": {},
   "source": [
    "We can see the error start creeping up, as expected. So, we will try to combat this by introducing a hyperparameter for regularization. Just like in ridge regression where we used lambda, logistic regression also has a regularization hyper parameter. We will be using the L2 regularizer to see if we can achieve better results at high error."
   ]
  },
  {
   "cell_type": "markdown",
   "metadata": {},
   "source": [
    "Let us first show you how to use the regularizer with Sklearn's regressor:"
   ]
  },
  {
   "cell_type": "code",
   "execution_count": 19,
   "metadata": {},
   "outputs": [
    {
     "data": {
      "text/plain": [
       "LogisticRegression(C=23.0, class_weight=None, dual=False, fit_intercept=True,\n",
       "                   intercept_scaling=1, l1_ratio=None, max_iter=100,\n",
       "                   multi_class='warn', n_jobs=None, penalty='l2',\n",
       "                   random_state=0, solver='saga', tol=0.0001, verbose=0,\n",
       "                   warm_start=False)"
      ]
     },
     "execution_count": 19,
     "metadata": {},
     "output_type": "execute_result"
    }
   ],
   "source": [
    "c = 23.0\n",
    "logreg = LogisticRegression(random_state=0, penalty = 'l2', solver='saga')\n",
    "logreg.set_params(C=c)"
   ]
  },
  {
   "cell_type": "markdown",
   "metadata": {},
   "source": [
    "Here, the parameter $c$ is used as the hyper parameter to control the L2 regularization. The larger $c$ is, the smaller the regularization is. That is, $c$ is inversley proportional to the amount of regularization (unlike ridge regression).  \n",
    "\n",
    "So, we will now use $\\sigma = 400$ and try different values of $C$.\n",
    "\n",
    "### **(TODO) Perform hyper parameter optimization via grid search. Use sigma = 400 and try all values of C within the range specified. Store the error in err_lst for each value of C**"
   ]
  },
  {
   "cell_type": "code",
   "execution_count": 20,
   "metadata": {},
   "outputs": [
    {
     "name": "stderr",
     "output_type": "stream",
     "text": [
      "c:\\users\\danie\\appdata\\local\\programs\\python\\python37\\lib\\site-packages\\sklearn\\linear_model\\sag.py:337: ConvergenceWarning: The max_iter was reached which means the coef_ did not converge\n",
      "  \"the coef_ did not converge\", ConvergenceWarning)\n",
      "c:\\users\\danie\\appdata\\local\\programs\\python\\python37\\lib\\site-packages\\sklearn\\linear_model\\sag.py:337: ConvergenceWarning: The max_iter was reached which means the coef_ did not converge\n",
      "  \"the coef_ did not converge\", ConvergenceWarning)\n",
      "c:\\users\\danie\\appdata\\local\\programs\\python\\python37\\lib\\site-packages\\sklearn\\linear_model\\sag.py:337: ConvergenceWarning: The max_iter was reached which means the coef_ did not converge\n",
      "  \"the coef_ did not converge\", ConvergenceWarning)\n",
      "c:\\users\\danie\\appdata\\local\\programs\\python\\python37\\lib\\site-packages\\sklearn\\linear_model\\sag.py:337: ConvergenceWarning: The max_iter was reached which means the coef_ did not converge\n",
      "  \"the coef_ did not converge\", ConvergenceWarning)\n"
     ]
    }
   ],
   "source": [
    "Cs = np.logspace(-15, -1, 10)\n",
    "err_lst = []\n",
    "X_train_noisy, X_test_noisy = noisy_data(train_X_bin, test_X_bin, sigma=400)\n",
    "logreg = LogisticRegression(random_state=0, penalty = 'l2', solver='saga', C=c)\n",
    "#TODO\n",
    "#Start\n",
    "for c in Cs:  \n",
    "    #Set the parameter\n",
    "    logreg.set_params(C=c)\n",
    "    #Fit the logistic regressor\n",
    "    logreg.fit(X_train_noisy, train_y_bin)\n",
    "    #predict\n",
    "    y_pred = logreg.predict(X_test_noisy)\n",
    "    #find and store the error\n",
    "    err_lst.append(loss_func(y_pred, test_y_bin))\n",
    "#End"
   ]
  },
  {
   "cell_type": "markdown",
   "metadata": {},
   "source": [
    "### **(TODO) Plot the error against the different values of C.**"
   ]
  },
  {
   "cell_type": "code",
   "execution_count": 21,
   "metadata": {},
   "outputs": [
    {
     "data": {
      "text/plain": [
       "[<matplotlib.lines.Line2D at 0x25959f79888>]"
      ]
     },
     "execution_count": 21,
     "metadata": {},
     "output_type": "execute_result"
    },
    {
     "data": {
      "image/png": "[encoded data removed]",
      "text/plain": [
       "<Figure size 432x288 with 1 Axes>"
      ]
     },
     "metadata": {
      "needs_background": "light"
     },
     "output_type": "display_data"
    }
   ],
   "source": [
    "#TODO\n",
    "#Start\n",
    "plt.semilogx(Cs, err_lst)\n",
    "#End"
   ]
  },
  {
   "cell_type": "markdown",
   "metadata": {},
   "source": [
    "### **(TODO) Which value of C is the best? What is the associated error?.**\n",
    "\n",
    "COMMENT\n",
    "\n",
    "C should be on the order of $10^{-8}$ and the associated error should be around 0.15."
   ]
  },
  {
   "cell_type": "markdown",
   "metadata": {},
   "source": [
    "### **(TODO) Is this minimum error better than the error without regularization? .**\n",
    "o\n",
    "COMMENT\n",
    "\n",
    "Yes, we achieved a lower error using the right hyper parameter! "
   ]
  },
  {
   "cell_type": "markdown",
   "metadata": {},
   "source": [
    "# MNIST: Least Squares - PCA"
   ]
  },
  {
   "cell_type": "markdown",
   "metadata": {},
   "source": [
    "We will finally use Least Squares in combination with PCAs. Let us mathematically define our model:\n",
    "\n",
    "$$\\min_{\\vec{w} \\in \\mathbb{R}^d} ||X_k\\vec{w} - \\vec{y}||_2^2,\\; \\; X_k = XV_kV_k^T, \\; \\; X = U \\Sigma V^T$$\n",
    "\n",
    "We define $V_k$ to be the first $k$ columns of $V$. In this problem, k is our hyper parameter. Then, to classify, we use:\n",
    "\n",
    "$$\n",
    "    PCA_k(X_{new}) \\vec{w}^* = X_{new}V_{k,new} V_{k,new}^T \\vec{w}^*\n",
    "$$\n",
    "\n",
    "We wish to explore which value of k will yield us the best results.\n",
    "\n",
    "First, we need a least squares function and a PCA funtion. You can use Sklearn's implimentation of each.\n",
    "\n",
    "### **(TODO) Impliment the least_sq_pca_train function. This will perform least squares on the k dimensional representation of the data matrix X. Return the weight vector and the training error**"
   ]
  },
  {
   "cell_type": "code",
   "execution_count": 22,
   "metadata": {},
   "outputs": [],
   "source": [
    "def least_sq_pca_train(X_train, y_train, k):\n",
    "    #TODO\n",
    "    #Start\n",
    "    pca = PCA(n_components=k)\n",
    "    pca.fit(X_train)\n",
    "    Xk = pca.transform(X_train)\n",
    "    w = np.linalg.lstsq(Xk, y_train,rcond=None)[0]\n",
    "    y_pred = Xk @ w\n",
    "    train_err = loss_func(y_pred, y_train)\n",
    "    #End\n",
    "    return w, train_err"
   ]
  },
  {
   "cell_type": "markdown",
   "metadata": {},
   "source": [
    "### **(TODO) Impliment the least_sq_pca_test function. This will first perform k-PCA on the test data, then multiplies the k-PCA test data with the optimal vector w. Report the predicted value and the testing error**"
   ]
  },
  {
   "cell_type": "code",
   "execution_count": 23,
   "metadata": {},
   "outputs": [],
   "source": [
    "def least_sq_pca_test(X_test, y_test, w, k):\n",
    "    #TODO\n",
    "    #Start\n",
    "    pca = PCA(n_components=k)\n",
    "    pca.fit(X_test)\n",
    "    Xk = pca.transform(X_test)\n",
    "    y_pred = Xk @ w\n",
    "    test_err = loss_func(y_pred, y_test)\n",
    "    #End\n",
    "    return y_pred, test_err"
   ]
  },
  {
   "cell_type": "markdown",
   "metadata": {},
   "source": [
    "Now we will apply the functions to the training and testing data for k = 2:\n",
    "\n",
    "### **(TODO) Using our two helper functions, perform least square-pca classification on the training set to find w, then report the training error. Then find the testing error using the test set.**"
   ]
  },
  {
   "cell_type": "code",
   "execution_count": 24,
   "metadata": {},
   "outputs": [
    {
     "name": "stdout",
     "output_type": "stream",
     "text": [
      "2-PCA Training Error: 0.1115892523533677\n",
      "2-PCA Testing Error: 0.10813611281700732\n"
     ]
    }
   ],
   "source": [
    "k = 2\n",
    "#TODO\n",
    "#Start\n",
    "w, train_err = least_sq_pca_train(train_X_bin, train_y_bin, k = k)\n",
    "y_pred, test_err = least_sq_pca_test(test_X_bin, test_y_bin, w, k = k)\n",
    "#End\n",
    "print(str(k) + '-PCA Training Error:', train_err)\n",
    "print(str(k) + '-PCA Testing Error:', test_err)"
   ]
  },
  {
   "cell_type": "markdown",
   "metadata": {},
   "source": [
    "Now (hopefully we are seeing a pattern by now) we want to use hyper-parameter grid search in order to find the best k. We have provided the range of Ks for you to use. \n",
    "\n",
    "### **(TODO) Iterate through all values of k in the range in order to find the testing error at each value of k. Store this testing error into the list err_lst**"
   ]
  },
  {
   "cell_type": "code",
   "execution_count": 25,
   "metadata": {},
   "outputs": [],
   "source": [
    "ks = range(1, 784, 100)\n",
    "err_lst = []\n",
    "#TODO\n",
    "#Start\n",
    "for k in ks:\n",
    "    w, train_err = least_sq_pca_train(train_X_bin, train_y_bin, k = k)\n",
    "    y_pred, test_err = least_sq_pca_test(test_X_bin, test_y_bin, w, k = k)\n",
    "    err_lst.append(test_err)\n",
    "#End"
   ]
  },
  {
   "cell_type": "markdown",
   "metadata": {},
   "source": [
    "### **(TODO) Plot the values of k vs the err_lst**"
   ]
  },
  {
   "cell_type": "code",
   "execution_count": 26,
   "metadata": {},
   "outputs": [
    {
     "data": {
      "text/plain": [
       "[<matplotlib.lines.Line2D at 0x2595a09d988>]"
      ]
     },
     "execution_count": 26,
     "metadata": {},
     "output_type": "execute_result"
    },
    {
     "data": {
      "image/png": "[encoded data removed]",
      "text/plain": [
       "<Figure size 432x288 with 1 Axes>"
      ]
     },
     "metadata": {
      "needs_background": "light"
     },
     "output_type": "display_data"
    }
   ],
   "source": [
    "#TODO\n",
    "#Start\n",
    "plt.plot(ks, err_lst)\n",
    "#End"
   ]
  },
  {
   "cell_type": "markdown",
   "metadata": {},
   "source": [
    "It seems that the best values of k happen in the beginning. Let us 'thin the herd' and change the range from (1, 100, 5)\n",
    "\n",
    "### **(TODO) Copy what you have done for the previous part, this time the range is slightly different**"
   ]
  },
  {
   "cell_type": "code",
   "execution_count": 27,
   "metadata": {},
   "outputs": [],
   "source": [
    "ks = range(1, 100, 10)\n",
    "err_lst = []\n",
    "#TODO\n",
    "#Start\n",
    "for k in ks:\n",
    "    w, train_err = least_sq_pca_train(train_X_bin, train_y_bin, k = k)\n",
    "    y_pred, test_err = least_sq_pca_test(test_X_bin, test_y_bin, w, k = k)\n",
    "    err_lst.append(test_err)\n",
    "#End"
   ]
  },
  {
   "cell_type": "markdown",
   "metadata": {},
   "source": [
    "### **(TODO) Plot the values of k vs the err_lst (Copy from before)**"
   ]
  },
  {
   "cell_type": "code",
   "execution_count": 28,
   "metadata": {},
   "outputs": [
    {
     "data": {
      "text/plain": [
       "[<matplotlib.lines.Line2D at 0x25959fd1dc8>]"
      ]
     },
     "execution_count": 28,
     "metadata": {},
     "output_type": "execute_result"
    },
    {
     "data": {
      "image/png": "[encoded data removed]",
      "text/plain": [
       "<Figure size 432x288 with 1 Axes>"
      ]
     },
     "metadata": {
      "needs_background": "light"
     },
     "output_type": "display_data"
    }
   ],
   "source": [
    "#TODO\n",
    "#Start\n",
    "plt.plot(ks, err_lst)\n",
    "#End"
   ]
  },
  {
   "cell_type": "markdown",
   "metadata": {},
   "source": [
    "It seems like we still need to narrow our focus down to everything below 20. Let us change the range yet again:\n",
    "\n",
    "### **(TODO) Copy what you have done for the previous part, this time the range is slightly different**"
   ]
  },
  {
   "cell_type": "code",
   "execution_count": 29,
   "metadata": {},
   "outputs": [],
   "source": [
    "ks = range(1, 20, 1)\n",
    "err_lst = []\n",
    "#TODO\n",
    "#Start\n",
    "for k in ks:\n",
    "    w, train_err = least_sq_pca_train(train_X_bin, train_y_bin, k = k)\n",
    "    y_pred, test_err = least_sq_pca_test(test_X_bin, test_y_bin, w, k = k)\n",
    "    err_lst.append(test_err)\n",
    "#End"
   ]
  },
  {
   "cell_type": "markdown",
   "metadata": {},
   "source": [
    "### **(TODO) Plot the values of k vs the err_lst (Copy from before)**"
   ]
  },
  {
   "cell_type": "code",
   "execution_count": 30,
   "metadata": {},
   "outputs": [
    {
     "data": {
      "text/plain": [
       "[<matplotlib.lines.Line2D at 0x2595a115b88>]"
      ]
     },
     "execution_count": 30,
     "metadata": {},
     "output_type": "execute_result"
    },
    {
     "data": {
      "image/png": "[encoded data removed]",
      "text/plain": [
       "<Figure size 432x288 with 1 Axes>"
      ]
     },
     "metadata": {
      "needs_background": "light"
     },
     "output_type": "display_data"
    }
   ],
   "source": [
    "#TODO\n",
    "#Start\n",
    "plt.plot(ks, err_lst)\n",
    "#End"
   ]
  },
  {
   "cell_type": "markdown",
   "metadata": {},
   "source": [
    "And finally, we can see where our best performance happens! \n",
    "\n",
    "### **(TODO) Report the best value of k and the corresponding error**\n",
    "\n",
    "COMMENT\n",
    "\n",
    "The best value of k should be around 6 and the best error is around 10%"
   ]
  },
  {
   "cell_type": "markdown",
   "metadata": {},
   "source": [
    "Notice the technique we used here. We used a grid search, but we did split it into multiple smaller grid searches. We broke it down into k = 1, 101, 201, ... 701 then we did k = 1, 11, 21, ... 91 then finally we did k = 1, 2, 3, ... 20. \n",
    "\n",
    "However, this 'augmented' grid search has it's advantages and disadvantages. Please list the pros and cons of this augmented grid search:\n",
    "\n",
    "### **(TODO) Augmented grid search pros:**\n",
    "\n",
    "COMMENT HERE\n",
    "\n",
    "We are able to reach a minimum in a very small amount of time. We broke the problem into sizable chunks that were not very time consuming."
   ]
  },
  {
   "cell_type": "markdown",
   "metadata": {},
   "source": [
    "### **(TODO) Augmented grid search cons:**\n",
    "\n",
    "COMMENT HERE\n",
    "\n",
    "The biggest con to this is that we are assuming that there are no 'dips' in our graph. What we mean by 'dips' are any sharp drops in error. If there are dips, then iterating over every 100 hyperparemeter values may completeley jump over the dip."
   ]
  }
 ],
 "metadata": {
  "kernelspec": {
   "display_name": "Python 3",
   "language": "python",
   "name": "python3"
  },
  "language_info": {
   "codemirror_mode": {
    "name": "ipython",
    "version": 3
   },
   "file_extension": ".py",
   "mimetype": "text/x-python",
   "name": "python",
   "nbconvert_exporter": "python",
   "pygments_lexer": "ipython3",
   "version": "3.7.4"
  }
 },
 "nbformat": 4,
 "nbformat_minor": 2
}
